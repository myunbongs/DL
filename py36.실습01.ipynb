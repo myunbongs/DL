{
 "cells": [
  {
   "cell_type": "markdown",
   "id": "sensitive-armenia",
   "metadata": {},
   "source": [
    "# [실습01] MLP - 행렬곱 구현\n",
    "\n",
    "\n",
    "\n",
    "\n",
    "## 1. 라이브러리 임포트 "
   ]
  },
  {
   "cell_type": "code",
   "execution_count": 1,
   "id": "amber-affair",
   "metadata": {},
   "outputs": [],
   "source": [
    "import numpy as np\n",
    "import matplotlib.pyplot as plt\n",
    "%matplotlib inline\n",
    "\n",
    "# 지금은 torch를 이용하기보다 행렬과 벡터 단위에서 구현 \n",
    "import torch\n",
    "import torchvision.datasets as dset\n",
    "import torchvision.transforms as transforms"
   ]
  },
  {
   "cell_type": "markdown",
   "id": "italic-appraisal",
   "metadata": {},
   "source": [
    "## 2. MNIST test dataset 가져오기"
   ]
  },
  {
   "cell_type": "code",
   "execution_count": 2,
   "id": "stupid-weight",
   "metadata": {},
   "outputs": [],
   "source": [
    "mnist_test = dset.MNIST(\"\", train = False, transform = transforms.ToTensor(), target_transform = None, download = True)"
   ]
  },
  {
   "cell_type": "markdown",
   "id": "cognitive-hospital",
   "metadata": {},
   "source": [
    "## 3. 대략적인 데이터 형태"
   ]
  },
  {
   "cell_type": "code",
   "execution_count": 3,
   "id": "approximate-annotation",
   "metadata": {
    "scrolled": true
   },
   "outputs": [
    {
     "name": "stdout",
     "output_type": "stream",
     "text": [
      "mnist_test 길이 :  10000\n",
      "image data 형태 :  torch.Size([1, 28, 28])\n",
      "label :  7\n"
     ]
    },
    {
     "data": {
      "image/png": "[encoded data removed]",
      "text/plain": [
       "<Figure size 432x288 with 1 Axes>"
      ]
     },
     "metadata": {
      "needs_background": "light"
     },
     "output_type": "display_data"
    }
   ],
   "source": [
    "print \"mnist_test 길이 : \", len(mnist_test)\n",
    "\n",
    "# 데이터 하나 형태\n",
    "image, label = mnist_test.__getitem__(0) # 0번째 데이터!\n",
    "print \"image data 형태 : \", image.size()\n",
    "print \"label : \", label\n",
    "\n",
    "# 그리기\n",
    "img = image.numpy() # image 타입을 numpy 형태로 변환 ( 1, 28, 28)\n",
    "plt.title(\"label : %d\" %label)\n",
    "plt.imshow(img[0], cmap=\"gray\")\n",
    "plt.show()"
   ]
  },
  {
   "cell_type": "markdown",
   "id": "coastal-asthma",
   "metadata": {},
   "source": [
    "## 4. sigmoid, softmax 함수 구현\n",
    "\n",
    " $$ g(z) = { 1 \\over 1 + e^{-z} } $$"
   ]
  },
  {
   "cell_type": "code",
   "execution_count": 4,
   "id": "divine-slovakia",
   "metadata": {},
   "outputs": [],
   "source": [
    "# mlp 설계에서 사용하게 될 시그모이드 함수\n",
    "# for문을 이용하지 않고 내부적으로 최적화된 함수 쓰기 -> GPU 가속 받기 ex) numpy\n",
    "# x = z\n",
    "def sigmoid(x) :\n",
    "    return 1 / (1 + np.exp(-x))"
   ]
  },
  {
   "cell_type": "markdown",
   "id": "bearing-midwest",
   "metadata": {},
   "source": [
    " $$ softmax(x)_i = { e^xi \\over \\sum_j{e^{x_j}} } $$"
   ]
  },
  {
   "cell_type": "code",
   "execution_count": 5,
   "id": "every-equation",
   "metadata": {},
   "outputs": [],
   "source": [
    "# mlp 설계에서 사용하게 될 소프트맥스 함수\n",
    "def softmax(x) : \n",
    "    e_x = np.exp(x)\n",
    "    return e_x / np.sum(e_x)"
   ]
  },
  {
   "cell_type": "markdown",
   "id": "buried-blink",
   "metadata": {},
   "source": [
    "## 5. 모델 선언"
   ]
  },
  {
   "cell_type": "code",
   "execution_count": 6,
   "id": "incredible-glossary",
   "metadata": {},
   "outputs": [],
   "source": [
    "# multi-layered perceptron \n",
    "# # of units in each layer : 28 * 28 - 258 - 128 - 10\n",
    "\n",
    "class MyMLP:\n",
    "    def __init__(self, n_input, n_hidden1, n_hidden2, n_output): # input layer의 개수, 히든레이어12, output 유닛의 개수를 입력 받음 \n",
    "        # W^(1) : layer1 -> layer2에 매핑되는 가중치\n",
    "        # b : bias\n",
    "        \n",
    "        # (n_hidden1, n_input)만큼 공간을 만들 건데 0으로 채워줘\n",
    "        self.W1 = np.zeros( (n_hidden1, n_input), dtype=np.float32 ) #W1(258, 28*28)\n",
    "        self.b1 = np.zeros( (n_hidden1, ), dtype = np.float32 )\n",
    "        \n",
    "        self.W2 = np.zeros( (n_hidden2, n_hidden1), dtype=np.float32 ) # W2(128, 128)\n",
    "        self.b2 = np.zeros( (n_hidden2, ), dtype =np.float32 )\n",
    "        \n",
    "        self.W3 = np.zeros( (n_output, n_hidden2), dtype=np.float32 ) # W3(10, 128)\n",
    "        self.b3 = np.zeros( (n_output), dtype =np.float32 )\n",
    "        \n",
    "        # 여기까지 클래스의 객체가 선언되자마자 불러지는 생성자! \n",
    "    \n",
    "    # class의 객체를 생성하고 객체에 입력값 x를 넣으면 자동으로 불려짐 \n",
    "    def __call__(self, x):\n",
    "        # ( 1, 28, 28) -> ( 28 * 28) \n",
    "        x = x.reshape(-1) # 우리는 2차원 데이터 받으니까 일렬로 펴기\n",
    "        \n",
    "        h1 = sigmoid( np.dot(self.W1, x) + self.b1 ) # W1(258, 28*28), x(28 * 28), b1(258) -> h1(256) => w1*x + b1\n",
    "        # 요즘은 sigmoid보다 Relu나 LeakyReLU 주로 씀 \n",
    "        # sigmoid가 제안 되었을 때는 feature가 한 두 개 일 때~\n",
    "        h2 = np.dot(self.W2, h1) + self.b2 # W2(128, 256), h1(256), b2(128) -> h2(128) => w2*h1 + b2\n",
    "        out = np.dot(self.W3, h2) + self.b3 # W3(10, 128), h2(128), b3(10) -> out(10) => w3*h2 + b3\n",
    "        \n",
    "        return softmax(out) # (10) -> 0부터 1 사이 10개 unit들의 값을 모두 합치면 1이 되도록 "
   ]
  },
  {
   "cell_type": "markdown",
   "id": "still-stanford",
   "metadata": {},
   "source": [
    "## 6. 모델 생성"
   ]
  },
  {
   "cell_type": "code",
   "execution_count": 7,
   "id": "destroyed-blind",
   "metadata": {},
   "outputs": [],
   "source": [
    "# 객체 생성\n",
    "model = MyMLP(28*28, 256, 128, 10)"
   ]
  },
  {
   "cell_type": "code",
   "execution_count": 8,
   "id": "complete-speaking",
   "metadata": {},
   "outputs": [
    {
     "name": "stdout",
     "output_type": "stream",
     "text": [
      "(256, 784) (256,)\n",
      "(128, 256) (128,)\n",
      "(10, 128) (10,)\n"
     ]
    }
   ],
   "source": [
    "print model.W1.shape, model.b1.shape\n",
    "print model.W2.shape, model.b2.shape\n",
    "print model.W3.shape, model.b3.shape"
   ]
  },
  {
   "cell_type": "markdown",
   "id": "endangered-bible",
   "metadata": {},
   "source": [
    "## 7. 미리 학습된 weight 로드"
   ]
  },
  {
   "cell_type": "code",
   "execution_count": 9,
   "id": "reduced-hearing",
   "metadata": {},
   "outputs": [
    {
     "name": "stdout",
     "output_type": "stream",
     "text": [
      "(256, 784) (256,)\n",
      "(128, 256) (128,)\n",
      "(10, 128) (10,)\n"
     ]
    }
   ],
   "source": [
    "weights = np.load('./nets/mlp_weight.npz')\n",
    "\n",
    "model.W1 = weights['W1']\n",
    "model.b1 = weights['b1']\n",
    "model.W2 = weights['W2']\n",
    "model.b2 = weights['b2']\n",
    "model.W3 = weights['W3']\n",
    "model.b3 = weights['b3']\n",
    "\n",
    "print model.W1.shape, model.b1.shape\n",
    "print model.W2.shape, model.b2.shape\n",
    "print model.W3.shape, model.b3.shape"
   ]
  },
  {
   "cell_type": "markdown",
   "id": "freelance-avenue",
   "metadata": {},
   "source": [
    "## 8. 테스트"
   ]
  },
  {
   "cell_type": "code",
   "execution_count": 17,
   "id": "meaningful-squad",
   "metadata": {
    "scrolled": false
   },
   "outputs": [
    {
     "data": {
      "image/png": "[encoded data removed]",
      "text/plain": [
       "<Figure size 432x288 with 1 Axes>"
      ]
     },
     "metadata": {
      "needs_background": "light"
     },
     "output_type": "display_data"
    },
    {
     "data": {
      "image/png": "[encoded data removed]",
      "text/plain": [
       "<Figure size 432x288 with 1 Axes>"
      ]
     },
     "metadata": {
      "needs_background": "light"
     },
     "output_type": "display_data"
    },
    {
     "data": {
      "image/png": "[encoded data removed]",
      "text/plain": [
       "<Figure size 432x288 with 1 Axes>"
      ]
     },
     "metadata": {
      "needs_background": "light"
     },
     "output_type": "display_data"
    },
    {
     "data": {
      "image/png": "[encoded data removed]",
      "text/plain": [
       "<Figure size 432x288 with 1 Axes>"
      ]
     },
     "metadata": {
      "needs_background": "light"
     },
     "output_type": "display_data"
    },
    {
     "data": {
      "image/png": "[encoded data removed]",
      "text/plain": [
       "<Figure size 432x288 with 1 Axes>"
      ]
     },
     "metadata": {
      "needs_background": "light"
     },
     "output_type": "display_data"
    },
    {
     "data": {
      "image/png": "[encoded data removed]",
      "text/plain": [
       "<Figure size 432x288 with 1 Axes>"
      ]
     },
     "metadata": {
      "needs_background": "light"
     },
     "output_type": "display_data"
    },
    {
     "data": {
      "image/png": "[encoded data removed]",
      "text/plain": [
       "<Figure size 432x288 with 1 Axes>"
      ]
     },
     "metadata": {
      "needs_background": "light"
     },
     "output_type": "display_data"
    },
    {
     "data": {
      "image/png": "[encoded data removed]",
      "text/plain": [
       "<Figure size 432x288 with 1 Axes>"
      ]
     },
     "metadata": {
      "needs_background": "light"
     },
     "output_type": "display_data"
    },
    {
     "data": {
      "image/png": "[encoded data removed]",
      "text/plain": [
       "<Figure size 432x288 with 1 Axes>"
      ]
     },
     "metadata": {
      "needs_background": "light"
     },
     "output_type": "display_data"
    },
    {
     "data": {
      "image/png": "[encoded data removed]",
      "text/plain": [
       "<Figure size 432x288 with 1 Axes>"
      ]
     },
     "metadata": {
      "needs_background": "light"
     },
     "output_type": "display_data"
    },
    {
     "data": {
      "image/png": "[encoded data removed]",
      "text/plain": [
       "<Figure size 432x288 with 1 Axes>"
      ]
     },
     "metadata": {
      "needs_background": "light"
     },
     "output_type": "display_data"
    },
    {
     "data": {
      "image/png": "[encoded data removed]",
      "text/plain": [
       "<Figure size 432x288 with 1 Axes>"
      ]
     },
     "metadata": {
      "needs_background": "light"
     },
     "output_type": "display_data"
    },
    {
     "name": "stdout",
     "output_type": "stream",
     "text": [
      "정확도 : 91.91\n"
     ]
    }
   ],
   "source": [
    "mysum = 0\n",
    "\n",
    "# 데이터 길이 m을 구하고 데이터들을 돌며 이미지와 레이블을 구하며 생성된 모델에 이미지를 넣어줌\n",
    "# call 함수로 output 레이어의 값을 output 변수에 받게됨\n",
    "m = len(mnist_test)\n",
    "cnt = 0\n",
    "\n",
    "for i in range(m):\n",
    "    image, label = mnist_test.__getitem__(i) # 0번째 데이터\n",
    "    output = model(image)\n",
    "    \n",
    "#     if ( i % 1000 == 0 ):\n",
    "#         img = image.numpy()\n",
    "#         pred_label = np.argmax(output)\n",
    "#         plt.title(\"pred: %d, label: %d\" %(pred_label, label))\n",
    "#         plt.imshow(img[0], cmap='gray')\n",
    "#         plt.show()\n",
    "\n",
    "    if ( i % 100 == 0 ):\n",
    "        img = image.numpy()\n",
    "        pred_label = np.argmax(output)\n",
    "        # 예측한 label과 실제 label이 다른 이미지 출력 \n",
    "        if ( pred_label != label ):\n",
    "            plt.title(\"pred: %d, label: %d\" %(pred_label, label))\n",
    "            plt.imshow(img[0], cmap='gray')\n",
    "            plt.show()\n",
    "    \n",
    "    cnt += 1\n",
    "    mysum += (np.argmax(output) == label) # output은 원핫인코딩(추정되는 값만 1로 만들고 나머지는 0으로) 방식으로 0부터 9까지 예측 \n",
    "    # 각 원소의 값 중 가장 큰 값에 해당하는 유닛의 인덱스가 모델이 예측한 레이블이 됨-> max값에 해당하는 인덱스를 리턴하는 np.argmax 이용 \n",
    "\n",
    "print \"정확도 : %.2f\" % ((float(mysum) / cnt) * 100.0) "
   ]
  }
 ],
 "metadata": {
  "kernelspec": {
   "display_name": "conda_pytorch_p27",
   "language": "python",
   "name": "conda_pytorch_p27"
  },
  "language_info": {
   "codemirror_mode": {
    "name": "ipython",
    "version": 2
   },
   "file_extension": ".py",
   "mimetype": "text/x-python",
   "name": "python",
   "nbconvert_exporter": "python",
   "pygments_lexer": "ipython2",
   "version": "2.7.16"
  }
 },
 "nbformat": 4,
 "nbformat_minor": 5
}
